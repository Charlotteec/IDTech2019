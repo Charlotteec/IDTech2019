{
 "cells": [
  {
   "cell_type": "code",
   "execution_count": null,
   "metadata": {},
   "outputs": [],
   "source": [
    "class Arena:\n",
    "    def __init__(self, Bot1, Bot2):\n",
    "        self.bbot1 = Bot1\n",
    "        self.bbot2 = Bot2\n",
    "    def battle(self):\n",
    "        while self.bbot1.is_alive() and self.bbot2.is_alive():\n",
    "            #begin battle round\n",
    "            if self.bbot1.speed <= self.bbot2.speed:\n",
    "                self.bbot1.action(self.bbot2)\n",
    "                self.bbot2.action(self.bbot1)\n",
    "                self.bbot1.get_stats()\n",
    "                self.bbot2.get_stats()\n",
    "                input(\"Press enter for next round\")\n",
    "            else:\n",
    "                self.bbot2.action(self.bbot1)\n",
    "                self.bbot1.action(self.bbot2)\n",
    "                self.bbot1.get_stats()\n",
    "                self.bbot2.get_stats()\n",
    "                input(\"Press enter for next round\")\n",
    "        if self.bbot1.is_alive():\n",
    "            print(self.bbot1.name + \" is the winner!\")\n",
    "        else:\n",
    "            print(self.bbot2.name + \" is the winner!\")"
   ]
  },
  {
   "cell_type": "code",
   "execution_count": null,
   "metadata": {},
   "outputs": [],
   "source": [
    "#paste Battle Bot Code for one of the students make sure the class name is different\n"
   ]
  },
  {
   "cell_type": "code",
   "execution_count": null,
   "metadata": {},
   "outputs": [],
   "source": [
    "#paste Battle Bot Code for one of the students make sure the class name is different\n"
   ]
  },
  {
   "cell_type": "code",
   "execution_count": null,
   "metadata": {},
   "outputs": [],
   "source": [
    "#declare both Bots for each student here\n",
    "Bot1 =\n",
    "Bot2 =\n",
    "Arena =  Arena(Bot1, Bot2)\n",
    "arena.battle()"
   ]
  }
 ],
 "metadata": {
  "kernelspec": {
   "display_name": "Python 3",
   "language": "python",
   "name": "python3"
  },
  "language_info": {
   "codemirror_mode": {
    "name": "ipython",
    "version": 3
   },
   "file_extension": ".py",
   "mimetype": "text/x-python",
   "name": "python",
   "nbconvert_exporter": "python",
   "pygments_lexer": "ipython3",
   "version": "3.5.4"
  }
 },
 "nbformat": 4,
 "nbformat_minor": 2
}
